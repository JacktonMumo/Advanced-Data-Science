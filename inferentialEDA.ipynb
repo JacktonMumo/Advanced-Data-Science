{
 "cells": [
  {
   "cell_type": "code",
   "execution_count": 1,
   "metadata": {},
   "outputs": [
    {
     "data": {
      "text/html": [
       "<div>\n",
       "<style scoped>\n",
       "    .dataframe tbody tr th:only-of-type {\n",
       "        vertical-align: middle;\n",
       "    }\n",
       "\n",
       "    .dataframe tbody tr th {\n",
       "        vertical-align: top;\n",
       "    }\n",
       "\n",
       "    .dataframe thead th {\n",
       "        text-align: right;\n",
       "    }\n",
       "</style>\n",
       "<table border=\"1\" class=\"dataframe\">\n",
       "  <thead>\n",
       "    <tr style=\"text-align: right;\">\n",
       "      <th></th>\n",
       "      <th>Unnamed: 0</th>\n",
       "      <th>ids</th>\n",
       "      <th>bday</th>\n",
       "      <th>enrolldate</th>\n",
       "      <th>expgradate</th>\n",
       "      <th>Rank</th>\n",
       "      <th>Major</th>\n",
       "      <th>Gender</th>\n",
       "      <th>Athlete</th>\n",
       "      <th>Height</th>\n",
       "      <th>...</th>\n",
       "      <th>English</th>\n",
       "      <th>Reading</th>\n",
       "      <th>Math</th>\n",
       "      <th>Writing</th>\n",
       "      <th>State</th>\n",
       "      <th>LiveOnCampus</th>\n",
       "      <th>HowCommute</th>\n",
       "      <th>CommuteTime</th>\n",
       "      <th>SleepTime</th>\n",
       "      <th>StudyTime</th>\n",
       "    </tr>\n",
       "  </thead>\n",
       "  <tbody>\n",
       "    <tr>\n",
       "      <th>0</th>\n",
       "      <td>0</td>\n",
       "      <td>43783</td>\n",
       "      <td>1995-03-22</td>\n",
       "      <td>2000-01-01</td>\n",
       "      <td>2000-01-01</td>\n",
       "      <td>Unknown</td>\n",
       "      <td>unknown</td>\n",
       "      <td>Male</td>\n",
       "      <td>0</td>\n",
       "      <td>72.350000</td>\n",
       "      <td>...</td>\n",
       "      <td>88.24</td>\n",
       "      <td>81.50</td>\n",
       "      <td>60.02</td>\n",
       "      <td>81.44</td>\n",
       "      <td>In state</td>\n",
       "      <td>On Campus</td>\n",
       "      <td>Public Transit</td>\n",
       "      <td>27.0</td>\n",
       "      <td>7.0</td>\n",
       "      <td>1.0</td>\n",
       "    </tr>\n",
       "    <tr>\n",
       "      <th>1</th>\n",
       "      <td>1</td>\n",
       "      <td>20278</td>\n",
       "      <td>1995-01-01</td>\n",
       "      <td>2000-01-01</td>\n",
       "      <td>2000-01-01</td>\n",
       "      <td>Unknown</td>\n",
       "      <td>Philosophy</td>\n",
       "      <td>Male</td>\n",
       "      <td>0</td>\n",
       "      <td>70.660000</td>\n",
       "      <td>...</td>\n",
       "      <td>89.45</td>\n",
       "      <td>85.25</td>\n",
       "      <td>70.19</td>\n",
       "      <td>73.27</td>\n",
       "      <td>unknown</td>\n",
       "      <td>On Campus</td>\n",
       "      <td>Public Transit</td>\n",
       "      <td>27.0</td>\n",
       "      <td>5.0</td>\n",
       "      <td>2.0</td>\n",
       "    </tr>\n",
       "    <tr>\n",
       "      <th>2</th>\n",
       "      <td>2</td>\n",
       "      <td>20389</td>\n",
       "      <td>1994-12-31</td>\n",
       "      <td>2000-01-01</td>\n",
       "      <td>2000-01-01</td>\n",
       "      <td>Unknown</td>\n",
       "      <td>unknown</td>\n",
       "      <td>Male</td>\n",
       "      <td>0</td>\n",
       "      <td>70.680000</td>\n",
       "      <td>...</td>\n",
       "      <td>96.73</td>\n",
       "      <td>86.88</td>\n",
       "      <td>71.20</td>\n",
       "      <td>84.24</td>\n",
       "      <td>In state</td>\n",
       "      <td>unknown</td>\n",
       "      <td>Public Transit</td>\n",
       "      <td>27.0</td>\n",
       "      <td>8.0</td>\n",
       "      <td>7.0</td>\n",
       "    </tr>\n",
       "    <tr>\n",
       "      <th>3</th>\n",
       "      <td>3</td>\n",
       "      <td>22820</td>\n",
       "      <td>1994-12-01</td>\n",
       "      <td>2000-01-01</td>\n",
       "      <td>2000-01-01</td>\n",
       "      <td>Unknown</td>\n",
       "      <td>business administration</td>\n",
       "      <td>Female</td>\n",
       "      <td>0</td>\n",
       "      <td>68.031765</td>\n",
       "      <td>...</td>\n",
       "      <td>74.06</td>\n",
       "      <td>88.68</td>\n",
       "      <td>55.89</td>\n",
       "      <td>73.16</td>\n",
       "      <td>In state</td>\n",
       "      <td>On Campus</td>\n",
       "      <td>Public Transit</td>\n",
       "      <td>27.0</td>\n",
       "      <td>2.0</td>\n",
       "      <td>6.0</td>\n",
       "    </tr>\n",
       "    <tr>\n",
       "      <th>4</th>\n",
       "      <td>4</td>\n",
       "      <td>24559</td>\n",
       "      <td>1994-11-10</td>\n",
       "      <td>2000-01-01</td>\n",
       "      <td>2000-01-01</td>\n",
       "      <td>Unknown</td>\n",
       "      <td>unknown</td>\n",
       "      <td>Female</td>\n",
       "      <td>1</td>\n",
       "      <td>67.430000</td>\n",
       "      <td>...</td>\n",
       "      <td>82.61</td>\n",
       "      <td>77.30</td>\n",
       "      <td>65.52</td>\n",
       "      <td>80.45</td>\n",
       "      <td>Out of state</td>\n",
       "      <td>On Campus</td>\n",
       "      <td>Public Transit</td>\n",
       "      <td>27.0</td>\n",
       "      <td>7.0</td>\n",
       "      <td>3.0</td>\n",
       "    </tr>\n",
       "  </tbody>\n",
       "</table>\n",
       "<p>5 rows × 23 columns</p>\n",
       "</div>"
      ],
      "text/plain": [
       "   Unnamed: 0    ids        bday  enrolldate  expgradate     Rank  \\\n",
       "0           0  43783  1995-03-22  2000-01-01  2000-01-01  Unknown   \n",
       "1           1  20278  1995-01-01  2000-01-01  2000-01-01  Unknown   \n",
       "2           2  20389  1994-12-31  2000-01-01  2000-01-01  Unknown   \n",
       "3           3  22820  1994-12-01  2000-01-01  2000-01-01  Unknown   \n",
       "4           4  24559  1994-11-10  2000-01-01  2000-01-01  Unknown   \n",
       "\n",
       "                     Major  Gender  Athlete     Height  ...  English Reading  \\\n",
       "0                  unknown    Male        0  72.350000  ...    88.24   81.50   \n",
       "1               Philosophy    Male        0  70.660000  ...    89.45   85.25   \n",
       "2                  unknown    Male        0  70.680000  ...    96.73   86.88   \n",
       "3  business administration  Female        0  68.031765  ...    74.06   88.68   \n",
       "4                  unknown  Female        1  67.430000  ...    82.61   77.30   \n",
       "\n",
       "    Math  Writing         State  LiveOnCampus      HowCommute CommuteTime  \\\n",
       "0  60.02    81.44      In state     On Campus  Public Transit        27.0   \n",
       "1  70.19    73.27       unknown     On Campus  Public Transit        27.0   \n",
       "2  71.20    84.24      In state       unknown  Public Transit        27.0   \n",
       "3  55.89    73.16      In state     On Campus  Public Transit        27.0   \n",
       "4  65.52    80.45  Out of state     On Campus  Public Transit        27.0   \n",
       "\n",
       "  SleepTime StudyTime  \n",
       "0       7.0       1.0  \n",
       "1       5.0       2.0  \n",
       "2       8.0       7.0  \n",
       "3       2.0       6.0  \n",
       "4       7.0       3.0  \n",
       "\n",
       "[5 rows x 23 columns]"
      ]
     },
     "execution_count": 1,
     "metadata": {},
     "output_type": "execute_result"
    }
   ],
   "source": [
    "import pandas \n",
    "data = pandas.read_csv('cleanedDataset.csv')\n",
    "data.head(5)"
   ]
  },
  {
   "cell_type": "code",
   "execution_count": null,
   "metadata": {},
   "outputs": [
    {
     "name": "stdout",
     "output_type": "stream",
     "text": [
      "we dont have significant evidence to say that the mean English score for students is 50\n"
     ]
    }
   ],
   "source": [
    "\n",
    "# one sample t-test\n",
    "import scipy.stats as stats\n",
    "\n",
    "stats.ttest_1samp(a=data['English'],popmean=50)\n",
    "# statistic - this value tells you how many the std sample mean(English mean) is from the population ,mean(50)\n",
    "# pvalue - this value helps you to determine the significance of the results, ie, if it is null or true. if the pvalue is less than 0.05, then you reject the null hypothesis\n",
    "# degree of freedom - is used to determine the critical t-value from the t-distribution and for intercepting the t-test results\n",
    "\n",
    "t_stat,p_value = stats.ttest_1samp(a=data['English'],popmean=50)\n",
    "\n",
    "if p_value < 0.05:\n",
    "    print(\"we dont have significant evidence to say that the mean English score for students is 50\")\n",
    "else:\n",
    "    print(\"sample mean is not significantly different from the population mean\")"
   ]
  },
  {
   "cell_type": "code",
   "execution_count": null,
   "metadata": {},
   "outputs": [
    {
     "name": "stdout",
     "output_type": "stream",
     "text": [
      "sample mean is close to the population mean\n"
     ]
    }
   ],
   "source": [
    "stats.ttest_1samp(a=data['Math'],popmean=65)\n",
    "t_stat,p_value = stats.ttest_1samp(a=data['Math'],popmean=65)\n",
    "if p_value < 0.05:\n",
    "    print(\"we dont have significant evidence to say that the mean Math score for students is 65\")\n",
    "else:\n",
    "    print(\"sample mean is close to the population mean\")\n"
   ]
  },
  {
   "cell_type": "code",
   "execution_count": null,
   "metadata": {},
   "outputs": [
    {
     "name": "stdout",
     "output_type": "stream",
     "text": [
      "there is no significant difference in the average study time for athletes compared to non athletes\n"
     ]
    }
   ],
   "source": [
    "# Does an athlete affect a student's average study time?\n",
    "\n",
    "data['Athlete'].replace({\n",
    "    0:'Athlete',\n",
    "    1:'Non Athlete'\n",
    "},inplace=True)\n",
    "\n",
    "athlete_study_time = data[data['Athlete'] == 'Athlete']['StudyTime']\n",
    "non_athlete_study_time = data[data['Athlete'] == 'Non Athlete']['StudyTime']\n",
    "\n",
    "# perform the independence double sample ttest\n",
    "t_stat, p_value = stats.ttest_ind(a= athlete_study_time, b= non_athlete_study_time)\n",
    "if p_value < 0.05:\n",
    "    print('there is a significant difference in the average study time for athletes compared to non athletes')\n",
    "else:\n",
    "    print('there is no significant difference in the average study time for athletes compared to non athletes')\n"
   ]
  },
  {
   "cell_type": "code",
   "execution_count": null,
   "metadata": {},
   "outputs": [
    {
     "data": {
      "text/plain": [
       "Smoking\n",
       "ChainSmoker     94\n",
       "Non smoker     304\n",
       "Smoker          37\n",
       "dtype: int64"
      ]
     },
     "execution_count": 64,
     "metadata": {},
     "output_type": "execute_result"
    }
   ],
   "source": [
    "data['Smoking'].replace({\n",
    "    'Not a smoker':'Non smoker',\n",
    "    'Smoker':'Smoker',\n",
    "    'Unknown':'ChainSmoker',\n",
    "    '3.0':'Unknown'\n",
    "},inplace=True)\n",
    "\n",
    "data.groupby('Smoking').size()\n",
    "\n"
   ]
  },
  {
   "cell_type": "code",
   "execution_count": null,
   "metadata": {},
   "outputs": [
    {
     "name": "stdout",
     "output_type": "stream",
     "text": [
      "there is no significant difference in the average sleeping time for smokers compared to non smokers\n"
     ]
    }
   ],
   "source": [
    "smoker_sleep_time = data[data['Smoking'] == 'Smoker']['SleepTime']\n",
    "non_smoker_sleep_time = data[data['Smoking'] == 'Not a smoker']['SleepTime']\n",
    "\n",
    "t_stat, p_value = stats.ttest_ind(a= smoker_sleep_time, b= non_smoker_sleep_time)\n",
    "if p_value < 0.05:\n",
    "    print('there is a significant difference in the average sleeping time for smokers compared to non smokers')\n",
    "else:\n",
    "    print('there is no significant difference in the average sleeping time for smokers compared to non smokers')\n"
   ]
  },
  {
   "cell_type": "code",
   "execution_count": null,
   "metadata": {},
   "outputs": [
    {
     "data": {
      "text/plain": [
       "F_onewayResult(statistic=1.1416186919415943, pvalue=0.34136350185916114)"
      ]
     },
     "execution_count": 69,
     "metadata": {},
     "output_type": "execute_result"
    }
   ],
   "source": [
    "# one way ANOVA\n",
    "group1 = [85,68,44,55,98,22,53]\n",
    "group2 = [63,84,23,45,63,85,77]\n",
    "group3 = [46,74,73,82,91,189,45]\n",
    "\n",
    "stats.f_oneway(group1,group2,group3)"
   ]
  },
  {
   "cell_type": "code",
   "execution_count": null,
   "metadata": {},
   "outputs": [
    {
     "name": "stdout",
     "output_type": "stream",
     "text": [
      "there is not an evidence to conclude the difference in average English scores across based on state\n",
      "there is not an evidence to conclude the difference in average Reading scores across based on state\n",
      "there is not an evidence to conclude the difference in average Math scores across based on state\n",
      "there is not an evidence to conclude the difference in average Writing scores across based on state\n"
     ]
    }
   ],
   "source": [
    "data.groupby('State').size()\n",
    "\n",
    "# group the state and calculate the means of each score\n",
    "average_scores_by_state = data.groupby('State')[['English', 'Reading', 'Math', 'Writing']].mean()\n",
    "average_scores_by_state \n",
    "\n",
    "# perform ANOVA for each score using a loop\n",
    "for column in average_scores_by_state:\n",
    "    tstat,pvalue = stats.f_oneway(*[list(average_scores_by_state[column])for _,group in average_scores_by_state.groupby('State')])\n",
    "    if pvalue <0.05:\n",
    "        print(f\"there is a statitical significant difference in average {column} score across states\")\n",
    "    else:\n",
    "        print(f\"there is not an evidence to conclude the difference in average {column} scores across based on state\")"
   ]
  },
  {
   "cell_type": "code",
   "execution_count": null,
   "metadata": {},
   "outputs": [
    {
     "name": "stdout",
     "output_type": "stream",
     "text": [
      "the mean is significantly evident that they relate\n"
     ]
    }
   ],
   "source": [
    "# ANOVA for col Math, English and Reading.\n",
    "tstats,pvalue = stats.f_oneway(data['Math'],data['English'],data['Reading'])\n",
    "\n",
    "if pvalue <0.05:\n",
    "    print(\"the mean is significantly evident that they relate\")\n",
    "else:t_stat, p_value = stats.ttest_ind(a= smoker_sleep_time, b= non_smoker_sleep_time)\n",
    "if p_value < 0.05:\n",
    "    print('there is a significant difference in the average sleeping time for smokers compared to non smokers')\n",
    "else:\n",
    "    print('there is no significant difference in the average sleeping time for smokers compared to non smokers')\n",
    "    print(\"the mean is not significantly evident that they relate\")"
   ]
  },
  {
   "cell_type": "code",
   "execution_count": 82,
   "metadata": {},
   "outputs": [
    {
     "name": "stdout",
     "output_type": "stream",
     "text": [
      "there is no significant difference in the average sleeping time compared to the average study time\n"
     ]
    },
    {
     "name": "stderr",
     "output_type": "stream",
     "text": [
      "/home/user/.local/lib/python3.10/site-packages/scipy/stats/_stats_py.py:6988: RuntimeWarning: invalid value encountered in scalar divide\n",
      "  svar = ((n1 - 1) * v1 + (n2 - 1) * v2) / df\n"
     ]
    }
   ],
   "source": [
    "average_sleep_time = data['SleepTime'].mean()\n",
    "average_study_time = data['StudyTime'].mean()\n",
    "\n",
    "t_stat, p_value = stats.ttest_ind(a= average_sleep_time, b= average_study_time)\n",
    "if p_value < 0.05:\n",
    "    print('there is a significant difference in the average sleeping time compared to the average study time')\n",
    "else:\n",
    "    print('there is no significant difference in the average sleeping time compared to the average study time')\n",
    "\n",
    "                          "
   ]
  },
  {
   "cell_type": "code",
   "execution_count": 95,
   "metadata": {},
   "outputs": [
    {
     "name": "stdout",
     "output_type": "stream",
     "text": [
      "Athletes have higher average writing score (80.16445662892981) compared to non athletes (78.6448563280241)\n"
     ]
    }
   ],
   "source": [
    "# Do athletes have a higher average writing score compared to non-athletes\n",
    "athlete_writing_score = data[data['Athlete'] == 'Athlete']['Writing'].mean()\n",
    "non_athlete_writing_score = data[data['Athlete'] == 'Non Athlete']['Writing'].mean()\n",
    "\n",
    "# perform the independence double sample ttest\n",
    "t_stat, p_value = stats.ttest_ind(a= athlete_writing_score, b= non_athlete_writing_score)\n",
    "if athlete_writing_score > non_athlete_writing_score:\n",
    "    print(f'Athletes have higher average writing score ({athlete_writing_score}) compared to non athletes ({non_athlete_writing_score})')\n",
    "else:\n",
    "    print('Athletes do not have higher writing score compared to non athletes')\n"
   ]
  },
  {
   "cell_type": "code",
   "execution_count": 96,
   "metadata": {},
   "outputs": [
    {
     "name": "stdout",
     "output_type": "stream",
     "text": [
      "there is no significant difference in the average sleep time for males to females\n"
     ]
    }
   ],
   "source": [
    "# Is there a significant difference in average sleep time between male and female students\n",
    "male_sleep_time = data[data['Gender'] == 'Male']['SleepTime']\n",
    "female_sleep_time = data[data['Gender'] == 'Female']['SleepTime']\n",
    "\n",
    "# perform the independence double sample ttest\n",
    "t_stat, p_value = stats.ttest_ind(a= male_sleep_time, b= female_sleep_time)\n",
    "if p_value < 0.05:\n",
    "    print('there is a significant difference in the average sleep time for males to females')\n",
    "else:\n",
    "    print('there is no significant difference in the average sleep time for males to females')"
   ]
  }
 ],
 "metadata": {
  "kernelspec": {
   "display_name": "Python 3",
   "language": "python",
   "name": "python3"
  },
  "language_info": {
   "codemirror_mode": {
    "name": "ipython",
    "version": 3
   },
   "file_extension": ".py",
   "mimetype": "text/x-python",
   "name": "python",
   "nbconvert_exporter": "python",
   "pygments_lexer": "ipython3",
   "version": "3.10.12"
  }
 },
 "nbformat": 4,
 "nbformat_minor": 2
}
