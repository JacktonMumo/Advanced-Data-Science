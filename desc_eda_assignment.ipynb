{
 "cells": [
  {
   "cell_type": "code",
   "execution_count": 3,
   "metadata": {},
   "outputs": [],
   "source": [
    "import pandas\n"
   ]
  },
  {
   "cell_type": "code",
   "execution_count": 4,
   "metadata": {},
   "outputs": [
    {
     "data": {
      "text/html": [
       "<div>\n",
       "<style scoped>\n",
       "    .dataframe tbody tr th:only-of-type {\n",
       "        vertical-align: middle;\n",
       "    }\n",
       "\n",
       "    .dataframe tbody tr th {\n",
       "        vertical-align: top;\n",
       "    }\n",
       "\n",
       "    .dataframe thead th {\n",
       "        text-align: right;\n",
       "    }\n",
       "</style>\n",
       "<table border=\"1\" class=\"dataframe\">\n",
       "  <thead>\n",
       "    <tr style=\"text-align: right;\">\n",
       "      <th></th>\n",
       "      <th>Unnamed: 0</th>\n",
       "      <th>ids</th>\n",
       "      <th>bday</th>\n",
       "      <th>enrolldate</th>\n",
       "      <th>expgradate</th>\n",
       "      <th>Rank</th>\n",
       "      <th>Major</th>\n",
       "      <th>Gender</th>\n",
       "      <th>Athlete</th>\n",
       "      <th>Height</th>\n",
       "      <th>...</th>\n",
       "      <th>Writing</th>\n",
       "      <th>State</th>\n",
       "      <th>LiveOnCampus</th>\n",
       "      <th>HowCommute</th>\n",
       "      <th>CommuteTime</th>\n",
       "      <th>SleepTime</th>\n",
       "      <th>StudyTime</th>\n",
       "      <th>enrolldate</th>\n",
       "      <th>Score</th>\n",
       "      <th>BMI</th>\n",
       "    </tr>\n",
       "  </thead>\n",
       "  <tbody>\n",
       "    <tr>\n",
       "      <th>0</th>\n",
       "      <td>0</td>\n",
       "      <td>43783</td>\n",
       "      <td>1995-03-22</td>\n",
       "      <td>2000-01-01</td>\n",
       "      <td>2000-01-01</td>\n",
       "      <td>unknown</td>\n",
       "      <td>unknown</td>\n",
       "      <td>Male</td>\n",
       "      <td>0</td>\n",
       "      <td>0.833561</td>\n",
       "      <td>...</td>\n",
       "      <td>81.44</td>\n",
       "      <td>In state</td>\n",
       "      <td>on campus</td>\n",
       "      <td>Public Transport</td>\n",
       "      <td>27.0</td>\n",
       "      <td>7.000000</td>\n",
       "      <td>1.0</td>\n",
       "      <td>2000-01-01</td>\n",
       "      <td>311.200000</td>\n",
       "      <td>0.034584</td>\n",
       "    </tr>\n",
       "    <tr>\n",
       "      <th>1</th>\n",
       "      <td>1</td>\n",
       "      <td>20278</td>\n",
       "      <td>1995-01-01</td>\n",
       "      <td>2000-01-01</td>\n",
       "      <td>2000-01-01</td>\n",
       "      <td>unknown</td>\n",
       "      <td>Philosophy</td>\n",
       "      <td>Male</td>\n",
       "      <td>0</td>\n",
       "      <td>0.814091</td>\n",
       "      <td>...</td>\n",
       "      <td>73.27</td>\n",
       "      <td>unknown</td>\n",
       "      <td>on campus</td>\n",
       "      <td>Public Transport</td>\n",
       "      <td>27.0</td>\n",
       "      <td>5.000000</td>\n",
       "      <td>2.0</td>\n",
       "      <td>2000-01-01</td>\n",
       "      <td>318.160000</td>\n",
       "      <td>0.035891</td>\n",
       "    </tr>\n",
       "    <tr>\n",
       "      <th>2</th>\n",
       "      <td>2</td>\n",
       "      <td>20389</td>\n",
       "      <td>1994-12-31</td>\n",
       "      <td>2000-01-01</td>\n",
       "      <td>2000-01-01</td>\n",
       "      <td>unknown</td>\n",
       "      <td>unknown</td>\n",
       "      <td>Male</td>\n",
       "      <td>0</td>\n",
       "      <td>0.814321</td>\n",
       "      <td>...</td>\n",
       "      <td>84.24</td>\n",
       "      <td>In state</td>\n",
       "      <td>unknown</td>\n",
       "      <td>Public Transport</td>\n",
       "      <td>27.0</td>\n",
       "      <td>8.000000</td>\n",
       "      <td>7.0</td>\n",
       "      <td>2000-01-01</td>\n",
       "      <td>339.050000</td>\n",
       "      <td>0.039738</td>\n",
       "    </tr>\n",
       "    <tr>\n",
       "      <th>3</th>\n",
       "      <td>3</td>\n",
       "      <td>22820</td>\n",
       "      <td>1994-12-01</td>\n",
       "      <td>2000-01-01</td>\n",
       "      <td>2000-01-01</td>\n",
       "      <td>unknown</td>\n",
       "      <td>business administration</td>\n",
       "      <td>Female</td>\n",
       "      <td>0</td>\n",
       "      <td>0.783810</td>\n",
       "      <td>...</td>\n",
       "      <td>73.16</td>\n",
       "      <td>In state</td>\n",
       "      <td>on campus</td>\n",
       "      <td>Public Transport</td>\n",
       "      <td>27.0</td>\n",
       "      <td>2.000000</td>\n",
       "      <td>6.0</td>\n",
       "      <td>2000-01-01</td>\n",
       "      <td>291.790000</td>\n",
       "      <td>0.042854</td>\n",
       "    </tr>\n",
       "    <tr>\n",
       "      <th>4</th>\n",
       "      <td>4</td>\n",
       "      <td>24559</td>\n",
       "      <td>1994-11-10</td>\n",
       "      <td>2000-01-01</td>\n",
       "      <td>2000-01-01</td>\n",
       "      <td>unknown</td>\n",
       "      <td>unknown</td>\n",
       "      <td>Female</td>\n",
       "      <td>1</td>\n",
       "      <td>0.776877</td>\n",
       "      <td>...</td>\n",
       "      <td>80.45</td>\n",
       "      <td>Out of state</td>\n",
       "      <td>on campus</td>\n",
       "      <td>Public Transport</td>\n",
       "      <td>27.0</td>\n",
       "      <td>7.000000</td>\n",
       "      <td>3.0</td>\n",
       "      <td>2000-01-01</td>\n",
       "      <td>305.880000</td>\n",
       "      <td>0.028189</td>\n",
       "    </tr>\n",
       "    <tr>\n",
       "      <th>5</th>\n",
       "      <td>5</td>\n",
       "      <td>28980</td>\n",
       "      <td>1994-09-17</td>\n",
       "      <td>2000-01-01</td>\n",
       "      <td>2000-01-01</td>\n",
       "      <td>unknown</td>\n",
       "      <td>astrophysics</td>\n",
       "      <td>Male</td>\n",
       "      <td>1</td>\n",
       "      <td>0.788629</td>\n",
       "      <td>...</td>\n",
       "      <td>77.48</td>\n",
       "      <td>In state</td>\n",
       "      <td>on campus</td>\n",
       "      <td>Public Transport</td>\n",
       "      <td>27.0</td>\n",
       "      <td>8.000000</td>\n",
       "      <td>3.0</td>\n",
       "      <td>2000-01-01</td>\n",
       "      <td>291.050800</td>\n",
       "      <td>0.036627</td>\n",
       "    </tr>\n",
       "    <tr>\n",
       "      <th>6</th>\n",
       "      <td>6</td>\n",
       "      <td>33312</td>\n",
       "      <td>1994-07-27</td>\n",
       "      <td>2000-01-01</td>\n",
       "      <td>2000-01-01</td>\n",
       "      <td>unknown</td>\n",
       "      <td>Anthropology</td>\n",
       "      <td>Male</td>\n",
       "      <td>1</td>\n",
       "      <td>0.789896</td>\n",
       "      <td>...</td>\n",
       "      <td>70.79</td>\n",
       "      <td>In state</td>\n",
       "      <td>on campus</td>\n",
       "      <td>Public Transport</td>\n",
       "      <td>27.0</td>\n",
       "      <td>9.000000</td>\n",
       "      <td>9.0</td>\n",
       "      <td>2000-01-01</td>\n",
       "      <td>314.010000</td>\n",
       "      <td>0.034882</td>\n",
       "    </tr>\n",
       "    <tr>\n",
       "      <th>7</th>\n",
       "      <td>7</td>\n",
       "      <td>40274</td>\n",
       "      <td>1994-05-03</td>\n",
       "      <td>2000-01-01</td>\n",
       "      <td>2000-01-01</td>\n",
       "      <td>unknown</td>\n",
       "      <td>American History</td>\n",
       "      <td>Male</td>\n",
       "      <td>1</td>\n",
       "      <td>0.828492</td>\n",
       "      <td>...</td>\n",
       "      <td>65.89</td>\n",
       "      <td>In state</td>\n",
       "      <td>off campus</td>\n",
       "      <td>Public Transport</td>\n",
       "      <td>27.0</td>\n",
       "      <td>8.000000</td>\n",
       "      <td>3.0</td>\n",
       "      <td>2000-01-01</td>\n",
       "      <td>274.627555</td>\n",
       "      <td>0.043100</td>\n",
       "    </tr>\n",
       "    <tr>\n",
       "      <th>8</th>\n",
       "      <td>8</td>\n",
       "      <td>40390</td>\n",
       "      <td>1994-04-30</td>\n",
       "      <td>2000-01-01</td>\n",
       "      <td>2000-01-01</td>\n",
       "      <td>unknown</td>\n",
       "      <td>Africana studies</td>\n",
       "      <td>Female</td>\n",
       "      <td>1</td>\n",
       "      <td>0.793122</td>\n",
       "      <td>...</td>\n",
       "      <td>75.94</td>\n",
       "      <td>In state</td>\n",
       "      <td>off campus</td>\n",
       "      <td>car</td>\n",
       "      <td>26.0</td>\n",
       "      <td>5.461538</td>\n",
       "      <td>3.0</td>\n",
       "      <td>2000-01-01</td>\n",
       "      <td>279.270000</td>\n",
       "      <td>0.032644</td>\n",
       "    </tr>\n",
       "    <tr>\n",
       "      <th>9</th>\n",
       "      <td>9</td>\n",
       "      <td>28942</td>\n",
       "      <td>1993-09-17</td>\n",
       "      <td>2000-01-01</td>\n",
       "      <td>2000-01-01</td>\n",
       "      <td>unknown</td>\n",
       "      <td>unknown</td>\n",
       "      <td>Female</td>\n",
       "      <td>1</td>\n",
       "      <td>0.768351</td>\n",
       "      <td>...</td>\n",
       "      <td>78.18</td>\n",
       "      <td>Out of state</td>\n",
       "      <td>unknown</td>\n",
       "      <td>walking</td>\n",
       "      <td>13.0</td>\n",
       "      <td>2.000000</td>\n",
       "      <td>15.0</td>\n",
       "      <td>2000-01-01</td>\n",
       "      <td>295.530000</td>\n",
       "      <td>0.040600</td>\n",
       "    </tr>\n",
       "  </tbody>\n",
       "</table>\n",
       "<p>10 rows × 26 columns</p>\n",
       "</div>"
      ],
      "text/plain": [
       "   Unnamed: 0    ids        bday  enrolldate  expgradate     Rank  \\\n",
       "0           0  43783  1995-03-22  2000-01-01  2000-01-01  unknown   \n",
       "1           1  20278  1995-01-01  2000-01-01  2000-01-01  unknown   \n",
       "2           2  20389  1994-12-31  2000-01-01  2000-01-01  unknown   \n",
       "3           3  22820  1994-12-01  2000-01-01  2000-01-01  unknown   \n",
       "4           4  24559  1994-11-10  2000-01-01  2000-01-01  unknown   \n",
       "5           5  28980  1994-09-17  2000-01-01  2000-01-01  unknown   \n",
       "6           6  33312  1994-07-27  2000-01-01  2000-01-01  unknown   \n",
       "7           7  40274  1994-05-03  2000-01-01  2000-01-01  unknown   \n",
       "8           8  40390  1994-04-30  2000-01-01  2000-01-01  unknown   \n",
       "9           9  28942  1993-09-17  2000-01-01  2000-01-01  unknown   \n",
       "\n",
       "                     Major  Gender  Athlete    Height  ...  Writing  \\\n",
       "0                  unknown    Male        0  0.833561  ...    81.44   \n",
       "1               Philosophy    Male        0  0.814091  ...    73.27   \n",
       "2                  unknown    Male        0  0.814321  ...    84.24   \n",
       "3  business administration  Female        0  0.783810  ...    73.16   \n",
       "4                  unknown  Female        1  0.776877  ...    80.45   \n",
       "5             astrophysics    Male        1  0.788629  ...    77.48   \n",
       "6             Anthropology    Male        1  0.789896  ...    70.79   \n",
       "7         American History    Male        1  0.828492  ...    65.89   \n",
       "8         Africana studies  Female        1  0.793122  ...    75.94   \n",
       "9                  unknown  Female        1  0.768351  ...    78.18   \n",
       "\n",
       "          State  LiveOnCampus        HowCommute  CommuteTime  SleepTime  \\\n",
       "0      In state     on campus  Public Transport         27.0   7.000000   \n",
       "1       unknown     on campus  Public Transport         27.0   5.000000   \n",
       "2      In state       unknown  Public Transport         27.0   8.000000   \n",
       "3      In state     on campus  Public Transport         27.0   2.000000   \n",
       "4  Out of state     on campus  Public Transport         27.0   7.000000   \n",
       "5      In state     on campus  Public Transport         27.0   8.000000   \n",
       "6      In state     on campus  Public Transport         27.0   9.000000   \n",
       "7      In state    off campus  Public Transport         27.0   8.000000   \n",
       "8      In state    off campus               car         26.0   5.461538   \n",
       "9  Out of state       unknown           walking         13.0   2.000000   \n",
       "\n",
       "   StudyTime enrolldate        Score       BMI  \n",
       "0        1.0  2000-01-01  311.200000  0.034584  \n",
       "1        2.0  2000-01-01  318.160000  0.035891  \n",
       "2        7.0  2000-01-01  339.050000  0.039738  \n",
       "3        6.0  2000-01-01  291.790000  0.042854  \n",
       "4        3.0  2000-01-01  305.880000  0.028189  \n",
       "5        3.0  2000-01-01  291.050800  0.036627  \n",
       "6        9.0  2000-01-01  314.010000  0.034882  \n",
       "7        3.0  2000-01-01  274.627555  0.043100  \n",
       "8        3.0  2000-01-01  279.270000  0.032644  \n",
       "9       15.0  2000-01-01  295.530000  0.040600  \n",
       "\n",
       "[10 rows x 26 columns]"
      ]
     },
     "execution_count": 4,
     "metadata": {},
     "output_type": "execute_result"
    }
   ],
   "source": [
    "data2=pandas.read_csv('cleanedDataset.csv')\n",
    "data2.head(10)"
   ]
  },
  {
   "cell_type": "code",
   "execution_count": 5,
   "metadata": {},
   "outputs": [
    {
     "data": {
      "text/plain": [
       "7.208651399491094"
      ]
     },
     "execution_count": 5,
     "metadata": {},
     "output_type": "execute_result"
    }
   ],
   "source": [
    "data=data2['StudyTime'].mean()\n",
    "data"
   ]
  },
  {
   "cell_type": "code",
   "execution_count": 6,
   "metadata": {},
   "outputs": [
    {
     "data": {
      "text/plain": [
       "79.52168316831684"
      ]
     },
     "execution_count": 6,
     "metadata": {},
     "output_type": "execute_result"
    }
   ],
   "source": [
    "data=data2['Writing'].mean()\n",
    "data"
   ]
  },
  {
   "cell_type": "code",
   "execution_count": 7,
   "metadata": {},
   "outputs": [
    {
     "data": {
      "text/plain": [
       "93.78"
      ]
     },
     "execution_count": 7,
     "metadata": {},
     "output_type": "execute_result"
    }
   ],
   "source": [
    "data=data2['Math'].max()\n",
    "data"
   ]
  },
  {
   "cell_type": "code",
   "execution_count": 8,
   "metadata": {},
   "outputs": [
    {
     "data": {
      "text/plain": [
       "0.633668024"
      ]
     },
     "execution_count": 8,
     "metadata": {},
     "output_type": "execute_result"
    }
   ],
   "source": [
    "data=data2['Height'].min()\n",
    "data"
   ]
  },
  {
   "cell_type": "code",
   "execution_count": 9,
   "metadata": {},
   "outputs": [],
   "source": [
    "import matplotlib.pyplot as plt\n",
    "import seaborn as sns\n",
    "plt.style.use('ggplot')"
   ]
  },
  {
   "cell_type": "code",
   "execution_count": 10,
   "metadata": {},
   "outputs": [
    {
     "name": "stderr",
     "output_type": "stream",
     "text": [
      "/tmp/ipykernel_7117/3030564707.py:1: FutureWarning: \n",
      "\n",
      "Passing `palette` without assigning `hue` is deprecated and will be removed in v0.14.0. Assign the `y` variable to `hue` and set `legend=False` for the same effect.\n",
      "\n",
      "  sns.countplot(data2['LiveOnCampus'],palette='Blues')\n"
     ]
    },
    {
     "data": {
      "text/plain": [
       "Text(0.5, 1.0, 'Live on Campus Countplot')"
      ]
     },
     "execution_count": 10,
     "metadata": {},
     "output_type": "execute_result"
    },
    {
     "data": {
      "image/png": "[encoded data removed]",
      "text/plain": [
       "<Figure size 640x480 with 1 Axes>"
      ]
     },
     "metadata": {},
     "output_type": "display_data"
    }
   ],
   "source": [
    "sns.countplot(data2['LiveOnCampus'],palette='Blues')\n",
    "plt.title('Live on Campus Countplot')"
   ]
  },
  {
   "cell_type": "code",
   "execution_count": 11,
   "metadata": {},
   "outputs": [
    {
     "name": "stderr",
     "output_type": "stream",
     "text": [
      "/tmp/ipykernel_7117/3701653698.py:1: FutureWarning: \n",
      "\n",
      "Passing `palette` without assigning `hue` is deprecated and will be removed in v0.14.0. Assign the `x` variable to `hue` and set `legend=False` for the same effect.\n",
      "\n",
      "  sns.countplot(data2['Athlete'],palette='Oranges')\n"
     ]
    },
    {
     "data": {
      "text/plain": [
       "<Axes: ylabel='count'>"
      ]
     },
     "execution_count": 11,
     "metadata": {},
     "output_type": "execute_result"
    },
    {
     "data": {
      "image/png": "[encoded data removed]",
      "text/plain": [
       "<Figure size 640x480 with 1 Axes>"
      ]
     },
     "metadata": {},
     "output_type": "display_data"
    }
   ],
   "source": [
    "sns.countplot(data2['Athlete'],palette='Oranges')"
   ]
  },
  {
   "cell_type": "code",
   "execution_count": 12,
   "metadata": {},
   "outputs": [
    {
     "data": {
      "text/plain": [
       "LiveOnCampus\n",
       "off campus    1254.846154\n",
       "on campus     1009.615385\n",
       "unknown        111.307692\n",
       "Name: SleepTime, dtype: float64"
      ]
     },
     "execution_count": 12,
     "metadata": {},
     "output_type": "execute_result"
    }
   ],
   "source": [
    "data2.groupby('LiveOnCampus')['SleepTime'].sum()"
   ]
  },
  {
   "cell_type": "code",
   "execution_count": 13,
   "metadata": {},
   "outputs": [
    {
     "name": "stderr",
     "output_type": "stream",
     "text": [
      "/tmp/ipykernel_7117/2563604617.py:1: FutureWarning: \n",
      "\n",
      "Passing `palette` without assigning `hue` is deprecated and will be removed in v0.14.0. Assign the `x` variable to `hue` and set `legend=False` for the same effect.\n",
      "\n",
      "  sns.barplot(data2['Athlete'],palette='Blues')\n"
     ]
    },
    {
     "data": {
      "text/plain": [
       "<Axes: ylabel='Athlete'>"
      ]
     },
     "execution_count": 13,
     "metadata": {},
     "output_type": "execute_result"
    },
    {
     "data": {
      "image/png": "[encoded data removed]",
      "text/plain": [
       "<Figure size 640x480 with 1 Axes>"
      ]
     },
     "metadata": {},
     "output_type": "display_data"
    }
   ],
   "source": [
    "sns.barplot(data2['Athlete'],palette='Blues')"
   ]
  },
  {
   "cell_type": "code",
   "execution_count": 14,
   "metadata": {},
   "outputs": [
    {
     "data": {
      "image/png": "[encoded data removed]",
      "text/plain": [
       "<Figure size 640x480 with 1 Axes>"
      ]
     },
     "metadata": {},
     "output_type": "display_data"
    }
   ],
   "source": [
    "sns.swarmplot(x='Athlete',y='Writing',data=data2,hue='Gender',palette='Oranges')\n",
    "plt.show()"
   ]
  },
  {
   "cell_type": "code",
   "execution_count": 15,
   "metadata": {},
   "outputs": [
    {
     "data": {
      "text/plain": [
       "Smoking\n",
       " smoker          2366.490000\n",
       "3.0              1549.610000\n",
       "Not a smoker    20002.082085\n",
       "Unknown          4560.402038\n",
       "Name: Math, dtype: float64"
      ]
     },
     "execution_count": 15,
     "metadata": {},
     "output_type": "execute_result"
    }
   ],
   "source": [
    "data2.groupby('Smoking')['Math'].sum()"
   ]
  },
  {
   "cell_type": "code",
   "execution_count": 16,
   "metadata": {},
   "outputs": [
    {
     "data": {
      "text/html": [
       "<div>\n",
       "<style scoped>\n",
       "    .dataframe tbody tr th:only-of-type {\n",
       "        vertical-align: middle;\n",
       "    }\n",
       "\n",
       "    .dataframe tbody tr th {\n",
       "        vertical-align: top;\n",
       "    }\n",
       "\n",
       "    .dataframe thead th {\n",
       "        text-align: right;\n",
       "    }\n",
       "</style>\n",
       "<table border=\"1\" class=\"dataframe\">\n",
       "  <thead>\n",
       "    <tr style=\"text-align: right;\">\n",
       "      <th></th>\n",
       "      <th>Unnamed: 0</th>\n",
       "      <th>ids</th>\n",
       "      <th>Athlete</th>\n",
       "      <th>Height</th>\n",
       "      <th>Weight</th>\n",
       "      <th>Sprint</th>\n",
       "      <th>English</th>\n",
       "      <th>Reading</th>\n",
       "      <th>Math</th>\n",
       "      <th>Writing</th>\n",
       "      <th>CommuteTime</th>\n",
       "      <th>SleepTime</th>\n",
       "      <th>StudyTime</th>\n",
       "      <th>Score</th>\n",
       "      <th>BMI</th>\n",
       "    </tr>\n",
       "  </thead>\n",
       "  <tbody>\n",
       "    <tr>\n",
       "      <th>count</th>\n",
       "      <td>435.000000</td>\n",
       "      <td>435.000000</td>\n",
       "      <td>435.000000</td>\n",
       "      <td>435.000000</td>\n",
       "      <td>435.000000</td>\n",
       "      <td>435.000000</td>\n",
       "      <td>435.000000</td>\n",
       "      <td>435.000000</td>\n",
       "      <td>435.000000</td>\n",
       "      <td>435.000000</td>\n",
       "      <td>435.000000</td>\n",
       "      <td>435.000000</td>\n",
       "      <td>435.000000</td>\n",
       "      <td>435.000000</td>\n",
       "      <td>435.000000</td>\n",
       "    </tr>\n",
       "    <tr>\n",
       "      <th>mean</th>\n",
       "      <td>217.000000</td>\n",
       "      <td>35279.022989</td>\n",
       "      <td>0.422989</td>\n",
       "      <td>0.783810</td>\n",
       "      <td>16.894700</td>\n",
       "      <td>6.581933</td>\n",
       "      <td>82.787555</td>\n",
       "      <td>82.070800</td>\n",
       "      <td>65.468009</td>\n",
       "      <td>79.521683</td>\n",
       "      <td>27.000000</td>\n",
       "      <td>5.461538</td>\n",
       "      <td>7.208651</td>\n",
       "      <td>309.848048</td>\n",
       "      <td>0.039196</td>\n",
       "    </tr>\n",
       "    <tr>\n",
       "      <th>std</th>\n",
       "      <td>125.717938</td>\n",
       "      <td>8637.733605</td>\n",
       "      <td>0.494602</td>\n",
       "      <td>0.059419</td>\n",
       "      <td>3.708513</td>\n",
       "      <td>1.137571</td>\n",
       "      <td>6.631760</td>\n",
       "      <td>7.572994</td>\n",
       "      <td>8.249530</td>\n",
       "      <td>5.310927</td>\n",
       "      <td>7.583635</td>\n",
       "      <td>2.330994</td>\n",
       "      <td>4.140085</td>\n",
       "      <td>18.997957</td>\n",
       "      <td>0.007825</td>\n",
       "    </tr>\n",
       "    <tr>\n",
       "      <th>min</th>\n",
       "      <td>0.000000</td>\n",
       "      <td>20183.000000</td>\n",
       "      <td>0.000000</td>\n",
       "      <td>0.633668</td>\n",
       "      <td>9.492046</td>\n",
       "      <td>4.503000</td>\n",
       "      <td>59.830000</td>\n",
       "      <td>55.110000</td>\n",
       "      <td>35.320000</td>\n",
       "      <td>64.060000</td>\n",
       "      <td>4.000000</td>\n",
       "      <td>0.000000</td>\n",
       "      <td>0.000000</td>\n",
       "      <td>246.440000</td>\n",
       "      <td>0.024888</td>\n",
       "    </tr>\n",
       "    <tr>\n",
       "      <th>25%</th>\n",
       "      <td>108.500000</td>\n",
       "      <td>28001.000000</td>\n",
       "      <td>0.000000</td>\n",
       "      <td>0.749168</td>\n",
       "      <td>14.623966</td>\n",
       "      <td>5.671000</td>\n",
       "      <td>78.850000</td>\n",
       "      <td>77.270000</td>\n",
       "      <td>60.440000</td>\n",
       "      <td>75.945000</td>\n",
       "      <td>26.000000</td>\n",
       "      <td>4.000000</td>\n",
       "      <td>4.000000</td>\n",
       "      <td>297.120000</td>\n",
       "      <td>0.033627</td>\n",
       "    </tr>\n",
       "    <tr>\n",
       "      <th>50%</th>\n",
       "      <td>217.000000</td>\n",
       "      <td>35350.000000</td>\n",
       "      <td>0.000000</td>\n",
       "      <td>0.783329</td>\n",
       "      <td>16.894700</td>\n",
       "      <td>6.581933</td>\n",
       "      <td>82.787555</td>\n",
       "      <td>82.000000</td>\n",
       "      <td>65.468009</td>\n",
       "      <td>79.521683</td>\n",
       "      <td>27.000000</td>\n",
       "      <td>5.000000</td>\n",
       "      <td>7.000000</td>\n",
       "      <td>309.847555</td>\n",
       "      <td>0.037711</td>\n",
       "    </tr>\n",
       "    <tr>\n",
       "      <th>75%</th>\n",
       "      <td>325.500000</td>\n",
       "      <td>42655.500000</td>\n",
       "      <td>1.000000</td>\n",
       "      <td>0.820831</td>\n",
       "      <td>18.419011</td>\n",
       "      <td>7.304000</td>\n",
       "      <td>86.870000</td>\n",
       "      <td>86.995000</td>\n",
       "      <td>70.435000</td>\n",
       "      <td>83.485000</td>\n",
       "      <td>28.000000</td>\n",
       "      <td>7.000000</td>\n",
       "      <td>9.500000</td>\n",
       "      <td>322.700000</td>\n",
       "      <td>0.044019</td>\n",
       "    </tr>\n",
       "    <tr>\n",
       "      <th>max</th>\n",
       "      <td>434.000000</td>\n",
       "      <td>49947.000000</td>\n",
       "      <td>1.000000</td>\n",
       "      <td>0.972508</td>\n",
       "      <td>32.670144</td>\n",
       "      <td>9.597000</td>\n",
       "      <td>101.950000</td>\n",
       "      <td>103.620000</td>\n",
       "      <td>93.780000</td>\n",
       "      <td>93.010000</td>\n",
       "      <td>64.000000</td>\n",
       "      <td>13.000000</td>\n",
       "      <td>23.000000</td>\n",
       "      <td>368.640000</td>\n",
       "      <td>0.069347</td>\n",
       "    </tr>\n",
       "  </tbody>\n",
       "</table>\n",
       "</div>"
      ],
      "text/plain": [
       "       Unnamed: 0           ids     Athlete      Height      Weight  \\\n",
       "count  435.000000    435.000000  435.000000  435.000000  435.000000   \n",
       "mean   217.000000  35279.022989    0.422989    0.783810   16.894700   \n",
       "std    125.717938   8637.733605    0.494602    0.059419    3.708513   \n",
       "min      0.000000  20183.000000    0.000000    0.633668    9.492046   \n",
       "25%    108.500000  28001.000000    0.000000    0.749168   14.623966   \n",
       "50%    217.000000  35350.000000    0.000000    0.783329   16.894700   \n",
       "75%    325.500000  42655.500000    1.000000    0.820831   18.419011   \n",
       "max    434.000000  49947.000000    1.000000    0.972508   32.670144   \n",
       "\n",
       "           Sprint     English     Reading        Math     Writing  \\\n",
       "count  435.000000  435.000000  435.000000  435.000000  435.000000   \n",
       "mean     6.581933   82.787555   82.070800   65.468009   79.521683   \n",
       "std      1.137571    6.631760    7.572994    8.249530    5.310927   \n",
       "min      4.503000   59.830000   55.110000   35.320000   64.060000   \n",
       "25%      5.671000   78.850000   77.270000   60.440000   75.945000   \n",
       "50%      6.581933   82.787555   82.000000   65.468009   79.521683   \n",
       "75%      7.304000   86.870000   86.995000   70.435000   83.485000   \n",
       "max      9.597000  101.950000  103.620000   93.780000   93.010000   \n",
       "\n",
       "       CommuteTime   SleepTime   StudyTime       Score         BMI  \n",
       "count   435.000000  435.000000  435.000000  435.000000  435.000000  \n",
       "mean     27.000000    5.461538    7.208651  309.848048    0.039196  \n",
       "std       7.583635    2.330994    4.140085   18.997957    0.007825  \n",
       "min       4.000000    0.000000    0.000000  246.440000    0.024888  \n",
       "25%      26.000000    4.000000    4.000000  297.120000    0.033627  \n",
       "50%      27.000000    5.000000    7.000000  309.847555    0.037711  \n",
       "75%      28.000000    7.000000    9.500000  322.700000    0.044019  \n",
       "max      64.000000   13.000000   23.000000  368.640000    0.069347  "
      ]
     },
     "execution_count": 16,
     "metadata": {},
     "output_type": "execute_result"
    }
   ],
   "source": [
    "data2.describe()"
   ]
  },
  {
   "cell_type": "code",
   "execution_count": 17,
   "metadata": {},
   "outputs": [
    {
     "name": "stderr",
     "output_type": "stream",
     "text": [
      "/tmp/ipykernel_7117/2626428195.py:1: UserWarning: Ignoring `palette` because no `hue` variable has been assigned.\n",
      "  sns.histplot(data2['CommuteTime'],palette='Oranges')\n"
     ]
    },
    {
     "data": {
      "text/plain": [
       "<Axes: xlabel='CommuteTime', ylabel='Count'>"
      ]
     },
     "execution_count": 17,
     "metadata": {},
     "output_type": "execute_result"
    },
    {
     "data": {
      "image/png": "[encoded data removed]",
      "text/plain": [
       "<Figure size 640x480 with 1 Axes>"
      ]
     },
     "metadata": {},
     "output_type": "display_data"
    }
   ],
   "source": [
    "sns.histplot(data2['CommuteTime'],palette='Oranges')"
   ]
  },
  {
   "cell_type": "code",
   "execution_count": 18,
   "metadata": {},
   "outputs": [
    {
     "data": {
      "text/plain": [
       "Gender\n",
       "Female     168.389572\n",
       "Male       165.705185\n",
       "Neutral      6.862625\n",
       "Name: Height, dtype: float64"
      ]
     },
     "execution_count": 18,
     "metadata": {},
     "output_type": "execute_result"
    }
   ],
   "source": [
    "data2.groupby('Gender')['Height'].sum()\n",
    "#YES THERE ARE MORE MALE THAN FEMALE"
   ]
  },
  {
   "cell_type": "code",
   "execution_count": 19,
   "metadata": {},
   "outputs": [
    {
     "data": {
      "text/plain": [
       "State\n",
       "In state        97281.463764\n",
       "Out of state    29023.516046\n",
       "unknown          8478.920921\n",
       "Name: Score, dtype: float64"
      ]
     },
     "execution_count": 19,
     "metadata": {},
     "output_type": "execute_result"
    }
   ],
   "source": [
    "data2.groupby('State')['Score'].sum()\n"
   ]
  },
  {
   "cell_type": "code",
   "execution_count": 20,
   "metadata": {},
   "outputs": [
    {
     "data": {
      "text/html": [
       "<div>\n",
       "<style scoped>\n",
       "    .dataframe tbody tr th:only-of-type {\n",
       "        vertical-align: middle;\n",
       "    }\n",
       "\n",
       "    .dataframe tbody tr th {\n",
       "        vertical-align: top;\n",
       "    }\n",
       "\n",
       "    .dataframe thead th {\n",
       "        text-align: right;\n",
       "    }\n",
       "</style>\n",
       "<table border=\"1\" class=\"dataframe\">\n",
       "  <thead>\n",
       "    <tr style=\"text-align: right;\">\n",
       "      <th></th>\n",
       "      <th>Height</th>\n",
       "      <th>Weight</th>\n",
       "    </tr>\n",
       "    <tr>\n",
       "      <th>Gender</th>\n",
       "      <th></th>\n",
       "      <th></th>\n",
       "    </tr>\n",
       "  </thead>\n",
       "  <tbody>\n",
       "    <tr>\n",
       "      <th>Female</th>\n",
       "      <td>168.389572</td>\n",
       "      <td>3486.025545</td>\n",
       "    </tr>\n",
       "    <tr>\n",
       "      <th>Male</th>\n",
       "      <td>165.705185</td>\n",
       "      <td>3695.440212</td>\n",
       "    </tr>\n",
       "    <tr>\n",
       "      <th>Neutral</th>\n",
       "      <td>6.862625</td>\n",
       "      <td>167.728579</td>\n",
       "    </tr>\n",
       "  </tbody>\n",
       "</table>\n",
       "</div>"
      ],
      "text/plain": [
       "             Height       Weight\n",
       "Gender                          \n",
       "Female   168.389572  3486.025545\n",
       "Male     165.705185  3695.440212\n",
       "Neutral    6.862625   167.728579"
      ]
     },
     "execution_count": 20,
     "metadata": {},
     "output_type": "execute_result"
    }
   ],
   "source": [
    "data2.groupby('Gender')[['Height','Weight']].sum()"
   ]
  }
 ],
 "metadata": {
  "kernelspec": {
   "display_name": "Python 3",
   "language": "python",
   "name": "python3"
  },
  "language_info": {
   "codemirror_mode": {
    "name": "ipython",
    "version": 3
   },
   "file_extension": ".py",
   "mimetype": "text/x-python",
   "name": "python",
   "nbconvert_exporter": "python",
   "pygments_lexer": "ipython3",
   "version": "3.10.12"
  }
 },
 "nbformat": 4,
 "nbformat_minor": 2
}
