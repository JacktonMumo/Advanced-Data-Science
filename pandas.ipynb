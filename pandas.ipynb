{
 "cells": [
  {
   "cell_type": "code",
   "execution_count": 2,
   "metadata": {},
   "outputs": [
    {
     "name": "stdout",
     "output_type": "stream",
     "text": [
      "0     apple\n",
      "1    banana\n",
      "2    cherry\n",
      "dtype: object\n"
     ]
    }
   ],
   "source": [
    "# series in pandas\n",
    "import pandas\n",
    "data = ['apple','banana','cherry']\n",
    "fruits = pandas.Series(data)\n",
    "print(fruits)"
   ]
  },
  {
   "cell_type": "code",
   "execution_count": 3,
   "metadata": {},
   "outputs": [
    {
     "name": "stdout",
     "output_type": "stream",
     "text": [
      "   fruits  quantity\n",
      "0   apple       200\n",
      "1  banana       300\n",
      "2  cherry         5\n"
     ]
    }
   ],
   "source": [
    "#Data frame in pandas\n",
    "data1 = {\n",
    "    \"fruits\": ['apple', 'banana','cherry'],\n",
    "    \"quantity\":[200,300,5]\n",
    "}\n",
    "fruits2 = pandas.DataFrame(data1)\n",
    "print(fruits2)"
   ]
  }
 ],
 "metadata": {
  "kernelspec": {
   "display_name": "Python 3",
   "language": "python",
   "name": "python3"
  },
  "language_info": {
   "codemirror_mode": {
    "name": "ipython",
    "version": 3
   },
   "file_extension": ".py",
   "mimetype": "text/x-python",
   "name": "python",
   "nbconvert_exporter": "python",
   "pygments_lexer": "ipython3",
   "version": "3.10.12"
  }
 },
 "nbformat": 4,
 "nbformat_minor": 2
}
